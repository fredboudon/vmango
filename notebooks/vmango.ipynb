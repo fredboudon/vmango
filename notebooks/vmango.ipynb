{
 "cells": [
  {
   "cell_type": "code",
   "execution_count": 1,
   "metadata": {},
   "outputs": [],
   "source": [
    "%%capture\n",
    "help('modules')\n",
    "from pgljupyter import LsystemWidget\n",
    "#from openalea.vmango.preparation.glm_estimation.get_data_for_glm import main as get_data_for_glm\n",
    "#import rpy2.robjects as r\n",
    "import os"
   ]
  },
  {
   "cell_type": "code",
   "execution_count": 2,
   "metadata": {},
   "outputs": [],
   "source": [
    "%%capture\n",
    "#os.chdir('../src/openalea/vmango/preparation/glm_estimation')\n",
    "# generate input files located at glm_estimate_input/{cultivar} for prob. tables\n",
    "#get_data_for_glm()\n",
    "\n",
    "# generate prob. tables at glm_output_proba/{cultivar}\n",
    "#rscript = 'estimate_nb_glm_order_1_proba.r'\n",
    "#r.r(f\"source('{rscript}')\")"
   ]
  },
  {
   "cell_type": "code",
   "execution_count": 3,
   "metadata": {},
   "outputs": [],
   "source": [
    "os.chdir('../src/openalea/vmango/simulation')"
   ]
  },
  {
   "cell_type": "code",
   "execution_count": 4,
   "metadata": {},
   "outputs": [],
   "source": [
    "lw = LsystemWidget('mango_simulation.lpy', unit='cm', size_display=(800, 600), size_world=(5,5,5))"
   ]
  },
  {
   "cell_type": "code",
   "execution_count": 5,
   "metadata": {},
   "outputs": [
    {
     "data": {
      "application/vnd.jupyter.widget-view+json": {
       "model_id": "8b1e1fadf0fa4aeb8212f92c32fc4371",
       "version_major": 2,
       "version_minor": 0
      },
      "text/plain": [
       "LsystemWidget(derivationLength=15, scene={'data': b'x\\xda\\xcc\\xbd\\x07\\\\M\\xff\\x1f\\xf8_B\\xa9h\\xd2\\xa4\\xa9\\x94u\\x…"
      ]
     },
     "metadata": {},
     "output_type": "display_data"
    }
   ],
   "source": [
    "lw"
   ]
  },
  {
   "cell_type": "code",
   "execution_count": 6,
   "metadata": {},
   "outputs": [
    {
     "data": {
      "application/vnd.jupyter.widget-view+json": {
       "model_id": "5feb547525b2466fbf1ef9978d713697",
       "version_major": 2,
       "version_minor": 0
      },
      "text/plain": [
       "ParameterEditor(children=(VBox(children=(HBox(children=(HBox(children=(Button(description='Apply changes', sty…"
      ]
     },
     "metadata": {},
     "output_type": "display_data"
    }
   ],
   "source": [
    "lw.editor"
   ]
  },
  {
   "cell_type": "code",
   "execution_count": null,
   "metadata": {},
   "outputs": [],
   "source": []
  }
 ],
 "metadata": {
  "kernelspec": {
   "display_name": "Python 3",
   "language": "python",
   "name": "python3"
  },
  "language_info": {
   "codemirror_mode": {
    "name": "ipython",
    "version": 3
   },
   "file_extension": ".py",
   "mimetype": "text/x-python",
   "name": "python",
   "nbconvert_exporter": "python",
   "pygments_lexer": "ipython3",
   "version": "3.7.8"
  }
 },
 "nbformat": 4,
 "nbformat_minor": 4
}
