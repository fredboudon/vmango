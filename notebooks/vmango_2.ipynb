{
 "cells": [
  {
   "cell_type": "code",
   "execution_count": 5,
   "metadata": {},
   "outputs": [],
   "source": [
    "%%capture\n",
    "help('modules')\n",
    "\n",
    "import os\n",
    "from openalea.plantgl.all import *\n",
    "from openalea.lpy import Lsystem\n",
    "from pgljupyter import SceneWidget\n",
    "from math import ceil, sqrt, floor\n",
    "\n",
    "os.chdir('../src/openalea/vmango/simulation')"
   ]
  },
  {
   "cell_type": "code",
   "execution_count": 6,
   "metadata": {},
   "outputs": [
    {
     "name": "stdout",
     "output_type": "stream",
     "text": [
      "/home/jv/git/fredboudon/vmango/src/openalea/vmango/simulation\n"
     ]
    }
   ],
   "source": [
    "print(os.getcwd())"
   ]
  },
  {
   "cell_type": "code",
   "execution_count": 28,
   "metadata": {},
   "outputs": [
    {
     "data": {
      "application/vnd.jupyter.widget-view+json": {
       "model_id": "ae7958c6f8104a9e89a05cfa502dbd88",
       "version_major": 2,
       "version_minor": 0
      },
      "text/plain": [
       "SceneWidget(scenes=[{'id': 'i5bJVWa787LgXfIp6pNJxb8gv', 'data': b'x\\xdaSLrw\\xf5\\xf7e`Pp\\xe0\\xe5RPVVd\\x00\\x020\\…"
      ]
     },
     "metadata": {},
     "output_type": "display_data"
    }
   ],
   "source": [
    "scale = 0.01 # to meter\n",
    "ls = Lsystem('mango_simulation.lpy')\n",
    "tree = ls.axiom\n",
    "rows = cols = ceil(sqrt(ls.derivationLength))\n",
    "cell = 5 # cell size in meter\n",
    "size = rows * cell\n",
    "start = -size/2 + cell/2\n",
    "sw = SceneWidget(size_display=(600, 400), size_world=size)\n",
    "sw.add(ls.sceneInterpretation(ls.axiom), position=(start, start, 0), scale=scale)\n",
    "sw"
   ]
  },
  {
   "cell_type": "code",
   "execution_count": 29,
   "metadata": {},
   "outputs": [],
   "source": [
    "for i in range(1, ls.derivationLength):\n",
    "    row = floor(i / rows)\n",
    "    col = (i - row * cols)\n",
    "    x = row * cell + start\n",
    "    y = col * cell + start\n",
    "    tree = ls.derive(tree, i, 1)\n",
    "    sw.add(ls.sceneInterpretation(tree), (x, y, 0), scale=scale)"
   ]
  },
  {
   "cell_type": "code",
   "execution_count": null,
   "metadata": {},
   "outputs": [],
   "source": []
  }
 ],
 "metadata": {
  "kernelspec": {
   "display_name": "Python 3",
   "language": "python",
   "name": "python3"
  },
  "language_info": {
   "codemirror_mode": {
    "name": "ipython",
    "version": 3
   },
   "file_extension": ".py",
   "mimetype": "text/x-python",
   "name": "python",
   "nbconvert_exporter": "python",
   "pygments_lexer": "ipython3",
   "version": "3.7.8"
  }
 },
 "nbformat": 4,
 "nbformat_minor": 4
}
