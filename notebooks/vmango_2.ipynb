{
 "cells": [
  {
   "cell_type": "code",
   "execution_count": 7,
   "metadata": {
    "jupyter": {
     "source_hidden": true
    }
   },
   "outputs": [],
   "source": [
    "%%capture\n",
    "help('modules')\n",
    "\n",
    "import os\n",
    "from openalea.plantgl.all import *\n",
    "from openalea.lpy import Lsystem\n",
    "from pgljupyter import SceneWidget\n",
    "from math import ceil, sqrt, floor\n",
    "\n",
    "if os.path.exists('../src/openalea/vmango/simulation'):\n",
    "    os.chdir('../src/openalea/vmango/simulation')"
   ]
  },
  {
   "cell_type": "code",
   "execution_count": 8,
   "metadata": {},
   "outputs": [
    {
     "name": "stdout",
     "output_type": "stream",
     "text": [
      "/Users/fboudon/Develop/oagit/vmango/src/openalea/vmango/simulation\n"
     ]
    }
   ],
   "source": [
    "print(os.getcwd())"
   ]
  },
  {
   "cell_type": "code",
   "execution_count": 47,
   "metadata": {
    "collapsed": true,
    "jupyter": {
     "outputs_hidden": true
    }
   },
   "outputs": [
    {
     "data": {
      "application/vnd.jupyter.widget-view+json": {
       "model_id": "",
       "version_major": 2,
       "version_minor": 0
      },
      "text/plain": [
       "SceneWidget(scenes=[{'id': 'i5bJVWa787LgXfIp6pNJxb8gv', 'data': b'x\\xdaSLrw\\xf5\\xf7e`Pp\\xe0\\xe5RPVVd\\x00\\x020\\…"
      ]
     },
     "metadata": {},
     "output_type": "display_data"
    }
   ],
   "source": [
    "scale = 0.01 # to meter\n",
    "ls = Lsystem('mango_simulation.lpy',{'TIMESTEP':23})\n",
    "tree = ls.axiom\n",
    "#print(ls.derivationLength)\n",
    "rows = cols = ceil(sqrt(ls.derivationLength))\n",
    "cell = 5 # cell size in meter\n",
    "size = rows * cell\n",
    "start = -size/2 + cell/2\n",
    "sw = SceneWidget(size_display=(600, 600), size_world=size)\n",
    "sw.add(ls.sceneInterpretation(ls.axiom), position=(start, start, 0), scale=scale)\n",
    "sw"
   ]
  },
  {
   "cell_type": "code",
   "execution_count": 48,
   "metadata": {},
   "outputs": [
    {
     "name": "stdout",
     "output_type": "stream",
     "text": [
      "1 over 16 computed and displayed\n",
      "2 over 16 computed and displayed\n",
      "3 over 16 computed and displayed\n",
      "4 over 16 computed and displayed\n",
      "5 over 16 computed and displayed\n",
      "6 over 16 computed and displayed\n",
      "7 over 16 computed and displayed\n",
      "8 over 16 computed and displayed\n",
      "9 over 16 computed and displayed\n",
      "10 over 16 computed and displayed\n",
      "11 over 16 computed and displayed\n",
      "12 over 16 computed and displayed\n",
      "13 over 16 computed and displayed\n",
      "14 over 16 computed and displayed\n",
      "15 over 16 computed and displayed\n"
     ]
    }
   ],
   "source": [
    "for i in range(1, ls.derivationLength):\n",
    "    print(i,'over',ls.derivationLength,end='')\n",
    "    row = floor(i / rows)\n",
    "    col = (i - row * cols)\n",
    "    x = row * cell + start\n",
    "    y = col * cell + start\n",
    "    tree = ls.derive(tree, i, 1)\n",
    "    sc = ls.sceneInterpretation(tree)\n",
    "    print(' computed',end='')\n",
    "    sw.add(sc, (x, y, 0), scale=scale)\n",
    "    print(' and displayed')"
   ]
  },
  {
   "cell_type": "code",
   "execution_count": null,
   "metadata": {},
   "outputs": [],
   "source": []
  }
 ],
 "metadata": {
  "kernelspec": {
   "display_name": "Python 3",
   "language": "python",
   "name": "python3"
  },
  "language_info": {
   "codemirror_mode": {
    "name": "ipython",
    "version": 3
   },
   "file_extension": ".py",
   "mimetype": "text/x-python",
   "name": "python",
   "nbconvert_exporter": "python",
   "pygments_lexer": "ipython3",
   "version": "3.8.5"
  },
  "widgets": {
   "application/vnd.jupyter.widget-state+json": {
    "state": {},
    "version_major": 2,
    "version_minor": 0
   }
  }
 },
 "nbformat": 4,
 "nbformat_minor": 4
}
