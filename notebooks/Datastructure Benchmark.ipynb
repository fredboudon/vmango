{
 "cells": [
  {
   "cell_type": "code",
   "execution_count": 16,
   "metadata": {},
   "outputs": [],
   "source": [
    "from pgljupyter import LsystemWidget"
   ]
  },
  {
   "cell_type": "code",
   "execution_count": 72,
   "metadata": {},
   "outputs": [],
   "source": [
    "from openalea.mtg import *\n",
    "from pickle import load"
   ]
  },
  {
   "cell_type": "code",
   "execution_count": 18,
   "metadata": {},
   "outputs": [],
   "source": [
    "mango = load(open('mangomtg.pkl','rb'))"
   ]
  },
  {
   "cell_type": "code",
   "execution_count": 93,
   "metadata": {},
   "outputs": [],
   "source": [
    "TreeScale = 1\n",
    "GUScale = 2\n",
    "\n",
    "InfloLabel = 'Inflorescence'\n",
    "FruitLabel = 'Fruit'\n",
    "GULabel = 'GU'\n",
    "\n",
    "CyclePropertyName = 'cycle'\n",
    "\n",
    "BurstDatePropertyName = 'burst_date'\n",
    "\n",
    "NbFruitPropertyName = 'nb_fruits'\n",
    "FruitWeightPropertyName = 'fruits_weight'\n",
    "FruitHarvestDatePropertyName = 'fruits_maturity_date'\n",
    "\n",
    "def is_inflorescence(mtg, unit):\n",
    "    return mtg.label(unit) == InfloLabel\n",
    "\n",
    "def is_fruit(mtg, unit):\n",
    "    return mtg.label(unit) == FruitLabel\n",
    "\n",
    "def is_gu(mtg, unit):\n",
    "    return mtg.label(unit) == GULabel\n",
    "\n",
    "def get_gus(mtg):\n",
    "    return [i for i in mtg.components_at_scale(mtg.roots()[0],scale=GUScale) if is_gu(mtg,i) ]\n",
    "\n",
    "def get_inflorescences(mtg):\n",
    "    return [i for i in mtg.components_at_scale(mtg.roots()[0],scale=GUScale) if is_inflorescence(mtg,i) ]\n",
    "\n",
    "def vegetative_children(mtg, unit):\n",
    "    return [child for child in mtg.children(unit) if is_gu(mtg,child)]\n",
    "\n",
    "def get_unit_cycle(mtg, unit, default = 3):\n",
    "    \"\"\"Return the cycle of the unit. Default cycle is default. \"\"\"\n",
    "    return mtg.property(CyclePropertyName).get(unit, default)        \n",
    "\n",
    "def get_burst_date(mtg, unit, default=None):\n",
    "  \"\"\"Return the date of burst of the unit.  \"\"\"\n",
    "  return mtg.property(BurstDatePropertyName).get(unit, default)\n",
    "\n",
    "def get_nb_fruits(mtg, inflo, default=0):\n",
    "    return mtg.property(NbFruitPropertyName).get(inflo,default)\n",
    "\n",
    "def get_fruits_weight(mtg, inflo, default = 0):\n",
    "    return mtg.property(FruitWeightPropertyName).get(inflo,default)\n",
    "\n",
    "def get_fruits_harvest_date(mtg, inflo, default = None):\n",
    "    return mtg.property(FruitHarvestDatePropertyName).get(inflo,default)\n",
    "\n"
   ]
  },
  {
   "cell_type": "markdown",
   "metadata": {},
   "source": [
    "# Fruit production\n",
    "\n",
    "We compute the distribution of estimated harvest date"
   ]
  },
  {
   "cell_type": "code",
   "execution_count": 74,
   "metadata": {},
   "outputs": [],
   "source": [
    "from openalea.vmango.utilities.util_date import *\n",
    "from collections import OrderedDict\n",
    "harvestdaterange = (weekdate_range(fruiting_cycle_begin(4),fruiting_cycle_end(4)+ timedelta(days=21)))"
   ]
  },
  {
   "cell_type": "code",
   "execution_count": 75,
   "metadata": {},
   "outputs": [],
   "source": [
    "\n",
    "def harvest_week_distribution(mtg):\n",
    "    def toweekid(date):\n",
    "        if date is None: return None\n",
    "        d = date.isocalendar()\n",
    "        return (d[0],d[1]) \n",
    "\n",
    "    histo_date = OrderedDict([(d,0) for d in harvestdaterange])\n",
    "    fruit_weights = []\n",
    "    for unit in get_inflorescences(mtg):\n",
    "      if get_unit_cycle(mtg, unit) == 4:\n",
    "        nbfruits = get_nb_fruits(mtg,unit)\n",
    "        if nbfruits > 0:\n",
    "           harvest = get_fruits_harvest_date(mtg,unit)\n",
    "           wid = toweekid(harvest)\n",
    "           if not wid in histo_date:\n",
    "              print('Cannot consider',wid)\n",
    "           else:\n",
    "               histo_date[wid] += nbfruits\n",
    "           fruit_weights.append(get_fruits_weight(mtg, unit))\n",
    "        \n",
    "    return list(histo_date.values()), fruit_weights\n",
    "\n"
   ]
  },
  {
   "cell_type": "code",
   "execution_count": 76,
   "metadata": {},
   "outputs": [],
   "source": [
    "def plot_harvest_distribution(values):\n",
    "    import matplotlib.pyplot as plt\n",
    "    #strdate = lambda d : str(d[1])# +'-'+str(d[0]-2000)\n",
    "    dates     = list(map(lambda d : str(d[1])+'/'+str(d[0])[2:], harvestdaterange))\n",
    "    fig, ax = plt.subplots()\n",
    "    plt.bar(dates,values)\n",
    "    ax.set_xticklabels(dates, rotation=80)\n",
    "    plt.xlabel('Weeks'); plt.ylabel('Number of fruits')\n",
    "    plt.plot()\n",
    "    \n",
    "def plot_weight_distribution(values):\n",
    "    import matplotlib.pyplot as plt\n",
    "    fig, ax = plt.subplots()\n",
    "    plt.hist(weigths,range(0,1200,100))\n",
    "    plt.xlabel('Weights'); plt.ylabel('Number of fruits')\n",
    "    plt.plot()"
   ]
  },
  {
   "cell_type": "code",
   "execution_count": 77,
   "metadata": {},
   "outputs": [
    {
     "name": "stderr",
     "output_type": "stream",
     "text": [
      "<ipython-input-76-87df6d44f967>:7: UserWarning: FixedFormatter should only be used together with FixedLocator\n",
      "  ax.set_xticklabels(dates, rotation=80)\n"
     ]
    },
    {
     "data": {
      "image/png": "[encoded data removed]",
      "text/plain": [
       "<Figure size 432x288 with 1 Axes>"
      ]
     },
     "metadata": {
      "needs_background": "light"
     },
     "output_type": "display_data"
    },
    {
     "data": {
      "image/png": "[encoded data removed]",
      "text/plain": [
       "<Figure size 432x288 with 1 Axes>"
      ]
     },
     "metadata": {
      "needs_background": "light"
     },
     "output_type": "display_data"
    }
   ],
   "source": [
    "harvest, weigths = harvest_week_distribution(mango)\n",
    "plot_harvest_distribution(harvest)\n",
    "plot_weight_distribution(weigths)"
   ]
  },
  {
   "cell_type": "markdown",
   "metadata": {},
   "source": [
    "## GU distribution\n",
    "\n",
    "We give here an algorithm to determine the number of GUs appearing each month of the simulated period. For this we simply check the burst date of each GU."
   ]
  },
  {
   "cell_type": "code",
   "execution_count": 78,
   "metadata": {},
   "outputs": [],
   "source": [
    "daterange = monthdate_range(vegetative_cycle_end(3),vegetative_cycle_end(5))\n",
    "\n",
    "def determine_gu_distribution(mtg):\n",
    "    histo_date = OrderedDict([(d,0) for d in daterange])\n",
    "    for uc in get_gus(mtg):\n",
    "        try:\n",
    "            d = get_burst_date(mtg,uc)\n",
    "            histo_date[(d.year,d.month)] += 1\n",
    "        except : pass\n",
    "    return list(histo_date.values())\n",
    "\n",
    "def plot_distribution(values):\n",
    "    import matplotlib.pyplot as plt\n",
    "    dates     = list(map(lambda d : MonthEnName[d[1]][:3]+'-'+str(d[0]-2000).zfill(2), daterange))\n",
    "    fig, ax = plt.subplots()\n",
    "    plt.bar(dates,values)\n",
    "    ax.set_xticklabels(dates, rotation=80)\n",
    "    plt.xlabel('Month'); plt.ylabel('Number of new growth units')"
   ]
  },
  {
   "cell_type": "code",
   "execution_count": 79,
   "metadata": {},
   "outputs": [
    {
     "name": "stderr",
     "output_type": "stream",
     "text": [
      "<ipython-input-78-d0cb87e50d2f>:17: UserWarning: FixedFormatter should only be used together with FixedLocator\n",
      "  ax.set_xticklabels(dates, rotation=80)\n"
     ]
    },
    {
     "data": {
      "image/png": "[encoded data removed]",
      "text/plain": [
       "<Figure size 432x288 with 1 Axes>"
      ]
     },
     "metadata": {
      "needs_background": "light"
     },
     "output_type": "display_data"
    }
   ],
   "source": [
    "gudistrib = determine_gu_distribution(mango)\n",
    "plot_distribution(gudistrib)"
   ]
  },
  {
   "cell_type": "markdown",
   "metadata": {},
   "source": [
    "## Current Year Axes Size Distribution\n",
    "\n",
    "The number of GUs borned from the same initial GU of the initial structure is computed. The distribution of size is then displayed. This allow to compare vigour of the different initial GUs."
   ]
  },
  {
   "cell_type": "code",
   "execution_count": 80,
   "metadata": {},
   "outputs": [],
   "source": [
    "import numpy as np\n",
    "\n",
    "def determine_length_histogram(mtg):\n",
    "    ucs = [uc for uc in get_gus(mtg) if get_unit_cycle(mtg, uc) > 3]\n",
    "    roots = [uc for uc in ucs if get_unit_cycle(mtg,uc) != get_unit_cycle(mtg,mtg.parent(uc))]\n",
    "    groupid = dict([(uc,uc) for uc in  roots])\n",
    "    for uc in ucs :       \n",
    "        if not uc in groupid:\n",
    "            parents = []\n",
    "            while not uc in groupid:\n",
    "                parents.append(uc)\n",
    "                uc = mtg.parent(uc)\n",
    "            gid = groupid[uc]\n",
    "            for p in parents:\n",
    "                groupid[p] = gid\n",
    "    histo = np.bincount(np.bincount(list(groupid.values())))[1:]\n",
    "    return histo\n",
    "\n",
    "def plot_length_histogram(values):\n",
    "    import matplotlib.pyplot as plt\n",
    "    fig, ax = plt.subplots()\n",
    "    plt.bar(range(len(values)),values)\n",
    "    #ax.set_xticklabels(dates, rotation=80)\n",
    "    plt.title('Current Year Axes Size Distribution')\n",
    "    plt.xlabel('Number of GUs in current year axes'); plt.ylabel('Number of current year axes')"
   ]
  },
  {
   "cell_type": "code",
   "execution_count": 81,
   "metadata": {},
   "outputs": [
    {
     "data": {
      "image/png": "[encoded data removed]",
      "text/plain": [
       "<Figure size 432x288 with 1 Axes>"
      ]
     },
     "metadata": {
      "needs_background": "light"
     },
     "output_type": "display_data"
    }
   ],
   "source": [
    "h = determine_length_histogram(mango)\n",
    "plot_length_histogram(h)"
   ]
  },
  {
   "cell_type": "markdown",
   "metadata": {},
   "source": [
    "## Building Fruiting branches"
   ]
  },
  {
   "cell_type": "code",
   "execution_count": 98,
   "metadata": {},
   "outputs": [],
   "source": [
    "from functools import reduce\n",
    "\n",
    "def neighbours(mtg, node):\n",
    "    \"\"\" Gives the neighbours of a node in the mtg. In a tree graph, it is the parent and the children \"\"\"\n",
    "    parent = mtg.parent(node)\n",
    "    if parent: return [parent]+vegetative_children(mtg,node)\n",
    "    else: return vegetative_children(mtg,node)\n",
    "\n",
    "def nodes_at_distance(mtg, node, distance):\n",
    "    \"\"\" Return all nodes at a distance of node in the mtg. A set is returned \"\"\"\n",
    "    orderi = neighbours(mtg, node)\n",
    "    res = set(orderi)\n",
    "    for j in range(1,distance):\n",
    "        orderj = []\n",
    "        for ni in orderi:\n",
    "            if j < distance:\n",
    "                candidates = neighbours(mtg, ni)\n",
    "                orderj += [nj for nj in candidates if not nj in res]\n",
    "        res |= set(orderj)\n",
    "        orderi = orderj\n",
    "    return res\n",
    "\n",
    "\n",
    "def determine_fruiting_structure(mtg, cycle, fruit_distance):\n",
    "    \"\"\" Determine the different fruiting branches.\n",
    "        For this the different inflorescences that will gives fruits are first located. \n",
    "        All growth units at a given distance are associated with the inflo, forming a fruiting branches.\n",
    "        If two set of growth units have common elements, the fruiting branches are merged.\n",
    "        Return a list of tuple. Each tuple contains first a list of id of inflorescences and second a set of id of growth units.\n",
    "    \"\"\"\n",
    "    def merge(supporti, supportj):\n",
    "        return supporti[0]+supportj[0], supporti[1] | supportj[1]\n",
    "    \n",
    "    inflo = [inflo for inflo in get_inflorescences(mtg) if get_unit_cycle(mtg, inflo) == cycle and get_nb_fruits(mtg,inflo) > 0]\n",
    "    inflo_support = [([i],nodes_at_distance(mtg,i,fruit_distance)) for i in inflo]\n",
    "\n",
    "    i = 0\n",
    "    to_merge_at_last = []\n",
    "    while i < len(inflo_support):\n",
    "        # We first test if inflo_support[i] has common elements with others.\n",
    "        tomerge = []\n",
    "        for j in range(i+1,len(inflo_support)):\n",
    "            if len(inflo_support[i][1] & inflo_support[j][1]) > 0 : \n",
    "                # The 2 sets have elements in common\n",
    "                tomerge.append(j)\n",
    "\n",
    "        # We merge the elements\n",
    "        if len(tomerge) > 0:\n",
    "            to_merge_at_last.append((i,inflo_support[i]))\n",
    "            tomerge.sort()\n",
    "            inflo_support[i] = reduce(merge, [inflo_support[m] for m in tomerge])\n",
    "            for m in reversed(tomerge): del inflo_support[m]\n",
    "        else:\n",
    "            i += 1\n",
    "\n",
    "    for i, m in to_merge_at_last:\n",
    "        inflo_support[i] = merge(inflo_support[i], m)\n",
    "\n",
    "    return inflo_support"
   ]
  },
  {
   "cell_type": "code",
   "execution_count": 109,
   "metadata": {},
   "outputs": [],
   "source": [
    "def fb_sizes(fb):\n",
    "    return [len(gus) for inflos,gus in fb]\n",
    "\n",
    "def plot_fb_histogram(values):\n",
    "    import matplotlib.pyplot as plt\n",
    "    fig, ax = plt.subplots()\n",
    "    plt.boxplot([fb_sizes(count) for c,count in values],labels=[c for c,count in values])\n",
    "    #plt.bar(range(len(values)),values)\n",
    "    plt.title('Fruiting branches size')\n",
    "    plt.xlabel('Cycle'); plt.ylabel('Number of GUs in fruiting branches')\n"
   ]
  },
  {
   "cell_type": "code",
   "execution_count": 120,
   "metadata": {},
   "outputs": [
    {
     "data": {
      "image/png": "[encoded data removed]",
      "text/plain": [
       "<Figure size 432x288 with 1 Axes>"
      ]
     },
     "metadata": {
      "needs_background": "light"
     },
     "output_type": "display_data"
    }
   ],
   "source": [
    "branchsize = 4\n",
    "fruiting_branches = [(c,determine_fruiting_structure(mango,c,branchsize)) for c in range(3,5)]\n",
    "plot_fb_histogram(fruiting_branches)"
   ]
  },
  {
   "cell_type": "markdown",
   "metadata": {},
   "source": [
    "# Using xarray for properties"
   ]
  },
  {
   "cell_type": "code",
   "execution_count": null,
   "metadata": {},
   "outputs": [],
   "source": []
  }
 ],
 "metadata": {
  "kernelspec": {
   "display_name": "Python 3",
   "language": "python",
   "name": "python3"
  },
  "language_info": {
   "codemirror_mode": {
    "name": "ipython",
    "version": 3
   },
   "file_extension": ".py",
   "mimetype": "text/x-python",
   "name": "python",
   "nbconvert_exporter": "python",
   "pygments_lexer": "ipython3",
   "version": "3.8.6"
  }
 },
 "nbformat": 4,
 "nbformat_minor": 4
}
