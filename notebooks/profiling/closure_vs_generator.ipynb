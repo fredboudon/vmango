{
 "cells": [
  {
   "cell_type": "code",
   "execution_count": 1,
   "metadata": {},
   "outputs": [],
   "source": [
    "import pandas as pd\n",
    "import numpy as np\n",
    "import os, random, math\n",
    "from matplotlib import pyplot\n",
    "from openalea.vmango.simulation.fruitmodel.fruit_model_main import growth_main as growth_main_naive\n",
    "from openalea.vmango.simulation.fruitmodel_closure.fruit_model_main import growth_main as growth_main_closure\n",
    "from openalea.vmango.simulation.fruitmodel_generator.fruit_model_main import growth_main as growth_main_generator\n",
    "from openalea.vmango.simulation.fruitmodel.fruitmodel import initialize_input"
   ]
  },
  {
   "cell_type": "code",
   "execution_count": 2,
   "metadata": {},
   "outputs": [],
   "source": [
    "path_hourly = '../../share/environment/weather_hourly_stpierre_2002.csv'\n",
    "path_daily = '../../share/environment/weather_daily_stpierre_2002.csv'\n",
    "path_sunlit = '../../share/environment/sunlit_fractions.csv'\n",
    "path_params = '../../share/parameters/fruitmodel/cogshall.toml'"
   ]
  },
  {
   "cell_type": "code",
   "execution_count": 3,
   "metadata": {},
   "outputs": [
    {
     "name": "stdout",
     "output_type": "stream",
     "text": [
      "Input data has days with less than 24 h\n"
     ]
    }
   ],
   "source": [
    "df_hourly, df_daily, df_sunlit, params = initialize_input(path_hourly, path_daily, path_sunlit, path_params)"
   ]
  },
  {
   "cell_type": "code",
   "execution_count": 4,
   "metadata": {},
   "outputs": [],
   "source": [
    "bloom_date = '01/11/2002'\n",
    "nb_fruits = 1\n",
    "nb_leaves = 20\n",
    "\n",
    "DM_fruit_0 = 0.97 * np.random.normal(13.9, 4.1) + 0.03 * np.random.normal(29.2, 0.66)\n",
    "sunlit_bs = df_sunlit.iloc[:,random.randrange(0, 5)].to_numpy() "
   ]
  },
  {
   "cell_type": "code",
   "execution_count": 5,
   "metadata": {},
   "outputs": [
    {
     "name": "stdout",
     "output_type": "stream",
     "text": [
      "180 ms ± 1.9 ms per loop (mean ± std. dev. of 7 runs, 10 loops each)\n"
     ]
    }
   ],
   "source": [
    "%%timeit\n",
    "growth_main_naive(bloom_date, nb_fruits, nb_leaves, DM_fruit_0, sunlit_bs, df_hourly, df_daily, params, verbose=False)"
   ]
  },
  {
   "cell_type": "code",
   "execution_count": 6,
   "metadata": {},
   "outputs": [
    {
     "name": "stdout",
     "output_type": "stream",
     "text": [
      "179 ms ± 643 µs per loop (mean ± std. dev. of 7 runs, 10 loops each)\n"
     ]
    }
   ],
   "source": [
    "%%timeit\n",
    "growth_main_closure(bloom_date, nb_fruits, nb_leaves, DM_fruit_0, sunlit_bs, df_hourly, df_daily, params, verbose=False)\n"
   ]
  },
  {
   "cell_type": "code",
   "execution_count": 7,
   "metadata": {},
   "outputs": [
    {
     "name": "stdout",
     "output_type": "stream",
     "text": [
      "182 ms ± 835 µs per loop (mean ± std. dev. of 7 runs, 10 loops each)\n"
     ]
    }
   ],
   "source": [
    "%%timeit\n",
    "growth_main_generator(bloom_date, nb_fruits, nb_leaves, DM_fruit_0, sunlit_bs, df_hourly, df_daily, params, verbose=False)\n"
   ]
  },
  {
   "cell_type": "code",
   "execution_count": null,
   "metadata": {},
   "outputs": [],
   "source": []
  }
 ],
 "metadata": {
  "kernelspec": {
   "display_name": "lpy3",
   "language": "python",
   "name": "lpy3"
  },
  "language_info": {
   "codemirror_mode": {
    "name": "ipython",
    "version": 3
   },
   "file_extension": ".py",
   "mimetype": "text/x-python",
   "name": "python",
   "nbconvert_exporter": "python",
   "pygments_lexer": "ipython3",
   "version": "3.7.6"
  }
 },
 "nbformat": 4,
 "nbformat_minor": 2
}
